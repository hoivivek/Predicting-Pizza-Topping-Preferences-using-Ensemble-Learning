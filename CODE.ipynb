{
  "nbformat": 4,
  "nbformat_minor": 0,
  "metadata": {
    "colab": {
      "provenance": []
    },
    "kernelspec": {
      "name": "python3",
      "display_name": "Python 3"
    },
    "language_info": {
      "name": "python"
    }
  },
  "cells": [
    {
      "cell_type": "markdown",
      "source": [
        "# Import Lib\n"
      ],
      "metadata": {
        "id": "8v8_2fHgIhE6"
      }
    },
    {
      "cell_type": "code",
      "source": [
        "import numpy as np\n",
        "import pandas as pd\n",
        "from sklearn.model_selection import StratifiedKFold\n",
        "from sklearn.preprocessing import LabelEncoder, MultiLabelBinarizer\n",
        "from sklearn.ensemble import BaggingClassifier,StackingClassifier, RandomForestClassifier,AdaBoostClassifier, GradientBoostingClassifier\n",
        "from sklearn.metrics import accuracy_score\n",
        "from sklearn.tree import DecisionTreeClassifier\n",
        "from sklearn.ensemble import VotingClassifier\n",
        "from sklearn.neighbors import KNeighborsClassifier\n",
        "from sklearn.linear_model import LogisticRegression"
      ],
      "metadata": {
        "id": "V-DJ8XYjImG_"
      },
      "execution_count": 51,
      "outputs": []
    },
    {
      "cell_type": "markdown",
      "source": [
        "# Creating the Dataset"
      ],
      "metadata": {
        "id": "KSSE4CF1IvH4"
      }
    },
    {
      "cell_type": "code",
      "source": [
        "data = {\n",
        "    \"Chess Piece\": [\"Queen\", \"Queen\", \"Queen\", \"bishop\", \"rook\", \"Queen\", \"Queen\", \"Queen\", \"bishop\", \"Queen\",\n",
        "                    \"bishop\", \"Queen\", \"rook\", \"Queen\", \"rook\", \"rook\", \"Queen\", \"Queen\", \"bishop\"],\n",
        "    \"Pen\": [\"Gel Pen\", \"Gel Pen\", \"Ball point Pen\", \"Gel Pen\", \"Fountian Pen\", \"Ball point Pen\", \"Ball point Pen\",\n",
        "            \"Ball point Pen\", \"Ball point Pen\", \"Gel Pen\", \"Fountian Pen\", \"Ball point Pen\", \"Ball point Pen\",\n",
        "            \"Gel Pen\", \"Gel Pen\", \"Ball point Pen\", \"Ball point Pen\", \"Ball point Pen\", \"Ball point Pen\"],\n",
        "    \"Sport\": [\"Cricket\", \"Basketball\", \"Cricket\", \"Football\", \"Cricket\", \"Football\", \"Football\", \"Basketball\",\n",
        "              \"Cricket\", \"Football\", \"Football\", \"Cricket\", \"Cricket\", \"Cricket\", \"Basketball\", \"Basketball\",\n",
        "              \"Basketball\", \"Baseball\", \"Football\"],\n",
        "    \"Ghosts\": [\"No\", \"Yes\", \"No\", \"Yes\", \"Yes\", \"Yes\", \"No\", \"No\", \"No\", \"Yes\", \"Yes\", \"No\", \"No\", \"No\", \"Yes\",\n",
        "               \"Yes\", \"No\", \"No\", \"No\"],\n",
        "    \"Game\": [\"Real-Time Games\", \"Real-Time Games\", \"GTA5\", \"Real-Time Games\", \"Real-Time Games\", \"Real-Time Games\",\n",
        "             \"Pokémon GO\", \"Real-Time Games\", \"Real-Time Games\", \"Real-Time Games\", \"GTA5\", \"Real-Time Games\",\n",
        "             \"Real-Time Games\", \"Need For Speed\", \"Real-Time Games\", \"GTA5\", \"GTA5\", \"Pokémon GO\", \"Real-Time Games\"],\n",
        "    \"Pizza Topping\": [\"Mushrooms, Onions, Olives\", \"Onions, pineapple, Olives\", \"Mushrooms, Onions, Olives\",\n",
        "                      \"pineapple, Olives\", \"Mushrooms, Onions\", \"Mushrooms, Onions, Olives\",\n",
        "                      \"Pepperoni, Onions, pineapple\", \"pineapple, Olives\", \"Mushrooms, Onions, Olives\",\n",
        "                      \"Mushrooms, Onions, pineapple\", \"Mushrooms\", \"Mushrooms, Onions, pineapple\",\n",
        "                      \"Mushrooms, Onions, pineapple\", \"Mushrooms, Onions, pineapple\",\n",
        "                      \"Pepperoni, Onions, pineapple\", \"Mushrooms, Onions, pineapple\",\n",
        "                      \"Mushrooms, Onions, Olives\", \"Pepperoni, Onions, pineapple\", \"Mushrooms, Onions, Olives\"]\n",
        "}\n",
        "\n",
        "df = pd.DataFrame(data)"
      ],
      "metadata": {
        "id": "hu2WjiPiIuWk"
      },
      "execution_count": 52,
      "outputs": []
    },
    {
      "cell_type": "markdown",
      "source": [
        "# One-Hot Encoding for Pizza Topping"
      ],
      "metadata": {
        "id": "BO150lzsI4n5"
      }
    },
    {
      "cell_type": "code",
      "source": [
        "df['Pizza Topping'] = df['Pizza Topping'].apply(lambda x: x.split(', '))\n",
        "mlb = MultiLabelBinarizer()\n",
        "toppings = pd.DataFrame(mlb.fit_transform(df['Pizza Topping']), columns=mlb.classes_)\n",
        "df = pd.concat([df.drop('Pizza Topping', axis=1), toppings], axis=1)"
      ],
      "metadata": {
        "id": "UrTrhp1KI8kV"
      },
      "execution_count": 53,
      "outputs": []
    },
    {
      "cell_type": "markdown",
      "source": [
        "# Encoding Other Categorical Variables\n"
      ],
      "metadata": {
        "id": "DInHkydedhuD"
      }
    },
    {
      "cell_type": "code",
      "source": [
        "label_encoders = {}\n",
        "for column in df.columns[:-len(toppings.columns)]:  # Exclude the toppings columns\n",
        "    le = LabelEncoder()\n",
        "    df[column] = le.fit_transform(df[column])\n",
        "    label_encoders[column] = le"
      ],
      "metadata": {
        "id": "QHjdbTxQdoBm"
      },
      "execution_count": 54,
      "outputs": []
    },
    {
      "cell_type": "markdown",
      "source": [
        "# Defining Features and Target\n"
      ],
      "metadata": {
        "id": "fk96UTnOdmla"
      }
    },
    {
      "cell_type": "code",
      "source": [
        "X = df.drop(toppings.columns, axis=1)\n",
        "y = toppings"
      ],
      "metadata": {
        "id": "qRG9pTSrdnpm"
      },
      "execution_count": 55,
      "outputs": []
    },
    {
      "cell_type": "markdown",
      "source": [
        "# Model Initialization and Storage\n"
      ],
      "metadata": {
        "id": "9gtyLJjtdrEG"
      }
    },
    {
      "cell_type": "code",
      "source": [
        "models = {}\n",
        "\n",
        "ensemble_accuracies = {\n",
        "    'Bagging': [],\n",
        "    'Boosting': [],\n",
        "    'Stacking': [],\n",
        "    'Voting': []\n",
        "}"
      ],
      "metadata": {
        "id": "RbOaMQ1Cec_n"
      },
      "execution_count": 56,
      "outputs": []
    },
    {
      "cell_type": "markdown",
      "source": [
        "# Input Mappings"
      ],
      "metadata": {
        "id": "4T5_0qjhepWh"
      }
    },
    {
      "cell_type": "code",
      "source": [
        "mappings = {\n",
        "    \"Chess Piece\": {0: \"Queen\", 1: \"bishop\", 2: \"rook\"},\n",
        "    \"Pen\": {0: \"Gel Pen\", 1: \"Ball point Pen\", 2: \"Fountian Pen\"},\n",
        "    \"Sport\": {0: \"Cricket\", 1: \"Basketball\", 2: \"Football\", 3: \"Baseball\"},\n",
        "    \"Ghosts\": {0: \"No\", 1: \"Yes\"},\n",
        "    \"Game\": {0: \"GTA5\", 1: \"Need For Speed\", 2: \"Pokémon GO\", 3: \"Real-Time Games\"}\n",
        "}"
      ],
      "metadata": {
        "id": "oj0T7J0ren3G"
      },
      "execution_count": 57,
      "outputs": []
    },
    {
      "cell_type": "markdown",
      "source": [
        "# Collecting User Input\n"
      ],
      "metadata": {
        "id": "1gPiTXzVet8z"
      }
    },
    {
      "cell_type": "code",
      "source": [
        "def get_user_input():\n",
        "    user_data = {}\n",
        "    for feature, mapping in mappings.items():\n",
        "        print(f\"\\n{feature} Options:\")\n",
        "        for key, value in mapping.items():\n",
        "            print(f\"  {key}: {value}\")\n",
        "        while True:\n",
        "            try:\n",
        "                selection = int(input(f\"Select {feature} (Enter the corresponding number): \"))\n",
        "                if selection in mapping:\n",
        "                    user_data[feature] = selection\n",
        "                    break\n",
        "                else:\n",
        "                    print(\"Invalid selection. Try again.\")\n",
        "            except ValueError:\n",
        "                print(\"Please enter a number.\")\n",
        "    return user_data\n",
        "\n",
        "user_data = get_user_input()"
      ],
      "metadata": {
        "colab": {
          "base_uri": "https://localhost:8080/"
        },
        "id": "1MKqpO3Ke0I5",
        "outputId": "f71c1eb3-0659-466f-bbed-0d63521cdd9b"
      },
      "execution_count": 58,
      "outputs": [
        {
          "name": "stdout",
          "output_type": "stream",
          "text": [
            "\n",
            "Chess Piece Options:\n",
            "  0: Queen\n",
            "  1: bishop\n",
            "  2: rook\n",
            "Select Chess Piece (Enter the corresponding number): 1\n",
            "\n",
            "Pen Options:\n",
            "  0: Gel Pen\n",
            "  1: Ball point Pen\n",
            "  2: Fountian Pen\n",
            "Select Pen (Enter the corresponding number): 2\n",
            "\n",
            "Sport Options:\n",
            "  0: Cricket\n",
            "  1: Basketball\n",
            "  2: Football\n",
            "  3: Baseball\n",
            "Select Sport (Enter the corresponding number): 2\n",
            "\n",
            "Ghosts Options:\n",
            "  0: No\n",
            "  1: Yes\n",
            "Select Ghosts (Enter the corresponding number): 1\n",
            "\n",
            "Game Options:\n",
            "  0: GTA5\n",
            "  1: Need For Speed\n",
            "  2: Pokémon GO\n",
            "  3: Real-Time Games\n",
            "Select Game (Enter the corresponding number): 0\n"
          ]
        }
      ]
    },
    {
      "cell_type": "markdown",
      "source": [
        "# Preprocess User Input\n"
      ],
      "metadata": {
        "id": "NItGi7F5e2HG"
      }
    },
    {
      "cell_type": "code",
      "source": [
        "for feature, value in user_data.items():\n",
        "    user_data[feature] = mappings[feature][value]\n",
        "user_df = pd.DataFrame([user_data])\n",
        "for column, le in label_encoders.items():\n",
        "    user_df[column] = le.transform(user_df[column])"
      ],
      "metadata": {
        "id": "igL_V78Ne-mY"
      },
      "execution_count": 59,
      "outputs": []
    },
    {
      "cell_type": "markdown",
      "source": [
        "# Split and Model Training Bagging"
      ],
      "metadata": {
        "id": "zBGcavI-eeiS"
      }
    },
    {
      "cell_type": "markdown",
      "source": [
        "Final Tuning Results:\n",
        "\n",
        "Mushrooms -\n",
        "Best Params: {'n_estimators': 5, 'estimator__max_depth': 5}, Avg Accuracy: 0.7167 ± 0.2105\n",
        "\n",
        "Olives -\n",
        "Best Params: {'n_estimators': 5, 'estimator__max_depth': 5}, Avg Accuracy: 0.3708 ± 0.1626\n",
        "\n",
        "Onions -\n",
        "Best Params: {'n_estimators': 5, 'estimator__max_depth': 5}, Avg Accuracy: 0.7000 ± 0.2646\n",
        "\n",
        "Pepperoni -\n",
        "Best Params: {'n_estimators': 5, 'estimator__max_depth': 5}, Avg Accuracy: 0.8292 ± 0.0776\n",
        "\n",
        "pineapple -\n",
        "Best Params: {'n_estimators': 5, 'estimator__max_depth': 5}, Avg Accuracy: 0.3375 ± 0.2190\n",
        "\n",
        "param_grid = {\n",
        "    'estimator__max_depth': [5, 10, 15, 20],  \n",
        "    'n_estimators': [5, 10, 15, 20]   }"
      ],
      "metadata": {
        "id": "9k7HB3S6SQpO"
      }
    },
    {
      "cell_type": "code",
      "source": [
        "#Bagging\n",
        "for topping in toppings:\n",
        "    skf = StratifiedKFold(n_splits=8, shuffle=True, random_state=42)\n",
        "\n",
        "    for train_index, test_index in skf.split(X, y[topping]):\n",
        "        X_train, X_test = X.iloc[train_index], X.iloc[test_index]\n",
        "        y_train, y_test = y[topping].iloc[train_index], y[topping].iloc[test_index]\n",
        "\n",
        "        # Using Bagging Classifier with DecisionTree\n",
        "        clf = BaggingClassifier(\n",
        "            DecisionTreeClassifier(random_state=42, max_depth=5),\n",
        "            n_estimators=5,\n",
        "            random_state=42\n",
        "        )\n",
        "\n",
        "        clf.fit(X_train, y_train)\n",
        "        y_pred = clf.predict(X_test)\n",
        "\n",
        "        models[topping] = clf\n",
        "        ensemble_accuracies['Bagging'].append(accuracy_score(y_test, y_pred))\n",
        "\n",
        "def predict_user_input_output_BaggingClassifier(user_df):\n",
        "    predictions = {topping: model.predict(user_df)[0] for topping, model in models.items()}\n",
        "    sorted_predictions = sorted(predictions.items(), key=lambda x: x[1], reverse=True)\n",
        "    print(\"\\nFinal Prediction (Top 1 to 3):\")\n",
        "    res=[]\n",
        "    for i, (topping, prob) in enumerate(sorted_predictions[:3], start=1):\n",
        "        if prob > 0.5:\n",
        "            res.append(topping)\n",
        "            print(f\"  {i}. {topping}\")\n",
        "    return res\n",
        "output_BaggingClassifier=predict_user_input_output_BaggingClassifier(user_df)\n"
      ],
      "metadata": {
        "colab": {
          "base_uri": "https://localhost:8080/"
        },
        "id": "N4jM5i8XehIu",
        "outputId": "67d440f8-2cbe-4987-c138-2e535ae4363a"
      },
      "execution_count": 60,
      "outputs": [
        {
          "output_type": "stream",
          "name": "stderr",
          "text": [
            "/usr/local/lib/python3.11/dist-packages/sklearn/model_selection/_split.py:805: UserWarning: The least populated class in y has only 6 members, which is less than n_splits=8.\n",
            "  warnings.warn(\n",
            "/usr/local/lib/python3.11/dist-packages/sklearn/model_selection/_split.py:805: UserWarning: The least populated class in y has only 3 members, which is less than n_splits=8.\n",
            "  warnings.warn(\n",
            "/usr/local/lib/python3.11/dist-packages/sklearn/model_selection/_split.py:805: UserWarning: The least populated class in y has only 3 members, which is less than n_splits=8.\n",
            "  warnings.warn(\n"
          ]
        },
        {
          "output_type": "stream",
          "name": "stdout",
          "text": [
            "\n",
            "Final Prediction (Top 1 to 3):\n",
            "  1. Mushrooms\n"
          ]
        }
      ]
    },
    {
      "cell_type": "markdown",
      "source": [
        "# boosting\n"
      ],
      "metadata": {
        "id": "Jt7ILy2BpgBt"
      }
    },
    {
      "cell_type": "markdown",
      "source": [
        "Final Tuning Results:\n",
        "\n",
        "Mushrooms:\n",
        "  AdaBoostClassifier - Best Params: {'n_estimators': 20, 'learning_rate': 0.5}, Avg Accuracy: 0.8750 ± 0.2165\n",
        "  GradientBoostingClassifier - Best Params: {'n_estimators': 150, 'max_depth': 4, 'learning_rate': 0.01}, Avg Accuracy: 0.6250 ± 0.2320\n",
        "  \n",
        "Olives:\n",
        "  AdaBoostClassifier - Best Params: {'n_estimators': 30, 'learning_rate': 0.1}, Avg Accuracy: 0.5000 ± 0.2041\n",
        "  GradientBoostingClassifier - Best Params: {'n_estimators': 150, 'max_depth': 4, 'learning_rate': 0.01}, Avg Accuracy: 0.5625 ± 0.3111\n",
        "  \n",
        "Onions:\n",
        "  AdaBoostClassifier - Best Params: {'n_estimators': 20, 'learning_rate': 0.01}, Avg Accuracy: 0.7083 ± 0.2465\n",
        "  GradientBoostingClassifier - Best Params: {'n_estimators': 150, 'max_depth': 4, 'learning_rate': 0.01}, Avg Accuracy: 0.7500 ± 0.2041\n",
        "  \n",
        "Pepperoni:\n",
        "  AdaBoostClassifier - Best Params: {'n_estimators': 20, 'learning_rate': 0.01}, Avg Accuracy: 0.9167 ± 0.1443\n",
        "  GradientBoostingClassifier - Best Params: {'n_estimators': 150, 'max_depth': 4, 'learning_rate': 0.01}, Avg Accuracy: 0.9167 ± 0.1443\n",
        "  \n",
        "pineapple:\n",
        "  AdaBoostClassifier - Best Params: {'n_estimators': 30, 'learning_rate': 0.1}, Avg Accuracy: 0.3542 ± 0.2273\n",
        "  GradientBoostingClassifier - Best Params: {'n_estimators': 50, 'max_depth': 2, 'learning_rate': 0.1}, Avg Accuracy: 0.3333 ± 0.2764\n",
        "\n",
        "\n",
        "ada_param_grid = {\n",
        "    'n_estimators': [10, 20, 30],\n",
        "    'learning_rate': [0.01, 0.1, 0.5]\n",
        "}\n",
        "\n",
        "gb_param_grid = {\n",
        "    'n_estimators': [50, 100, 150],\n",
        "    'learning_rate': [0.01, 0.1, 0.2],\n",
        "    'max_depth': [2, 3, 4]\n",
        "}\n",
        "\n"
      ],
      "metadata": {
        "id": "OT4-MzaZpFuz"
      }
    },
    {
      "cell_type": "code",
      "source": [
        "# Initialize lists to store accuracies\n",
        "ada_accuracies = []\n",
        "gb_accuracies = []\n",
        "\n",
        "for topping in toppings:\n",
        "    skf = StratifiedKFold(n_splits=8, shuffle=True, random_state=42)\n",
        "\n",
        "    for train_index, test_index in skf.split(X, y[topping]):\n",
        "        X_train, X_test = X.iloc[train_index], X.iloc[test_index]\n",
        "        y_train, y_test = y[topping].iloc[train_index], y[topping].iloc[test_index]\n",
        "\n",
        "        # Using AdaBoost with DecisionTree\n",
        "        ada_boost = AdaBoostClassifier(\n",
        "            DecisionTreeClassifier(max_depth=2),\n",
        "            n_estimators=20,\n",
        "            learning_rate=0.1,\n",
        "            random_state=42\n",
        "        )\n",
        "\n",
        "        # Using GradientBoosting with shallow DecisionTree\n",
        "        gb_boost = GradientBoostingClassifier(\n",
        "            n_estimators=150,\n",
        "            learning_rate=0.01,\n",
        "            max_depth=2,\n",
        "            random_state=42\n",
        "        )\n",
        "\n",
        "        # Fitting Models\n",
        "        ada_boost.fit(X_train, y_train)\n",
        "        gb_boost.fit(X_train, y_train)\n",
        "\n",
        "        # Predictions\n",
        "        ada_pred = ada_boost.predict(X_test)\n",
        "        gb_pred = gb_boost.predict(X_test)\n",
        "\n",
        "        # Store individual accuracies\n",
        "        ada_accuracies.append(accuracy_score(y_test, ada_pred))\n",
        "        gb_accuracies.append(accuracy_score(y_test, gb_pred))\n",
        "\n",
        "        # Simple Majority Voting\n",
        "        final_pred = np.round((ada_pred + gb_pred) / 2).astype(int)\n",
        "        ensemble_accuracies['Boosting'].append(accuracy_score(y_test, final_pred))\n",
        "\n",
        "        # Store the model\n",
        "        models[topping] = (ada_boost, gb_boost)\n",
        "\n",
        "# Calculate and print the average accuracies\n",
        "ada_avg_accuracy = np.mean(ada_accuracies)\n",
        "gb_avg_accuracy = np.mean(gb_accuracies)\n",
        "\n",
        "print(f\"\\nAverage Accuracy for AdaBoostClassifier: {ada_avg_accuracy:.4f}\")\n",
        "print(f\"Average Accuracy for GradientBoostingClassifier: {gb_avg_accuracy:.4f}\")\n",
        "\n",
        "def predict_user_input(user_df):\n",
        "    predictions = {}\n",
        "    for topping, (ada_boost, gb_boost) in models.items():\n",
        "        preds = np.array([\n",
        "            ada_boost.predict(user_df),\n",
        "            gb_boost.predict(user_df)\n",
        "        ])\n",
        "        final_pred = np.apply_along_axis(lambda x: np.bincount(x).argmax(), axis=0, arr=preds)\n",
        "        predictions[topping] = final_pred[0]\n",
        "\n",
        "    sorted_predictions = sorted(predictions.items(), key=lambda x: x[1], reverse=True)\n",
        "    print(\"\\nFinal Prediction (Top 1 to 3):\")\n",
        "    res=[]\n",
        "    for i, (topping, prob) in enumerate(sorted_predictions[:3], start=1):\n",
        "        res.append(topping)\n",
        "        print(f\"  {i}. {topping}\")\n",
        "    return res\n",
        "\n",
        "output_Boosting = predict_user_input(user_df)\n"
      ],
      "metadata": {
        "colab": {
          "base_uri": "https://localhost:8080/"
        },
        "id": "PFxNkLAyjvKD",
        "outputId": "345c03f0-3fcc-46bb-c06e-34105f1bb6e9"
      },
      "execution_count": 61,
      "outputs": [
        {
          "output_type": "stream",
          "name": "stderr",
          "text": [
            "/usr/local/lib/python3.11/dist-packages/sklearn/model_selection/_split.py:805: UserWarning: The least populated class in y has only 6 members, which is less than n_splits=8.\n",
            "  warnings.warn(\n",
            "/usr/local/lib/python3.11/dist-packages/sklearn/model_selection/_split.py:805: UserWarning: The least populated class in y has only 3 members, which is less than n_splits=8.\n",
            "  warnings.warn(\n",
            "/usr/local/lib/python3.11/dist-packages/sklearn/model_selection/_split.py:805: UserWarning: The least populated class in y has only 3 members, which is less than n_splits=8.\n",
            "  warnings.warn(\n"
          ]
        },
        {
          "output_type": "stream",
          "name": "stdout",
          "text": [
            "\n",
            "Average Accuracy for AdaBoostClassifier: 0.6833\n",
            "Average Accuracy for GradientBoostingClassifier: 0.6250\n",
            "\n",
            "Final Prediction (Top 1 to 3):\n",
            "  1. Mushrooms\n",
            "  2. Olives\n",
            "  3. Onions\n"
          ]
        }
      ]
    },
    {
      "cell_type": "markdown",
      "source": [
        "#Stacking"
      ],
      "metadata": {
        "id": "eRPL6kFOqzVw"
      }
    },
    {
      "cell_type": "markdown",
      "source": [
        "Final Tuning Results for Stacking Classifier:\n",
        "\n",
        "Mushrooms:\n",
        "  DecisionTreeClassifier - Best Params: {'max_depth': 20}\n",
        "  KNeighborsClassifier - Best Params: {'n_neighbors': 5}\n",
        "  MetaModel (LogisticRegression) - Best Params: {'C': 10}\n",
        "  Avg Accuracy: 0.6190 ± 0.0753\n",
        "\n",
        "Olives:\n",
        "  DecisionTreeClassifier - Best Params: {''max_depth': 20}\n",
        "  KNeighborsClassifier - Best Params: {'n_neighbors': 2}\n",
        "  MetaModel (LogisticRegression) - Best Params: {'C': 0.1}\n",
        "  Avg Accuracy: 0.5238 ± 0.2259\n",
        "\n",
        "Onions:\n",
        "  DecisionTreeClassifier - Best Params: {'min_samples_split': 10, 'max_depth': 15}\n",
        "  KNeighborsClassifier - Best Params: {'n_neighbors': 5}\n",
        "  MetaModel (LogisticRegression) - Best Params: {''C': 0.1}\n",
        "  Avg Accuracy: 0.8571 ± 0.1650\n",
        "\n",
        "Pepperoni:\n",
        "  DecisionTreeClassifier - Best Params: {'max_depth': 20}\n",
        "  KNeighborsClassifier - Best Params: { 'n_neighbors': 2}\n",
        "  MetaModel (LogisticRegression) - Best Params: {'C': 0.1}\n",
        "  Avg Accuracy: 0.8571 ± 0.1650\n",
        "\n",
        "pineapple:\n",
        "  DecisionTreeClassifier - Best Params: { 'max_depth': 20}\n",
        "  KNeighborsClassifier - Best Params: {'n_neighbors': 2}\n",
        "  MetaModel (LogisticRegression) - Best Params: {'C': 0.1}\n",
        "  Avg Accuracy: 0.5714 ± 0.1214\n",
        "\n",
        "\n",
        "\n",
        "  ## Parameter Grids for Tuning\n",
        "dt_param_grid = {\n",
        "    'max_depth': [10, 15, 20],\n",
        "}\n",
        "\n",
        "knn_param_grid = {\n",
        "    'n_neighbors': [2, 3, 5],\n",
        "}\n",
        "\n",
        "meta_param_grid = {\n",
        "    'C': [0.01, 0.1, 1, 10]\n",
        "}"
      ],
      "metadata": {
        "id": "0Th22tc_q-cc"
      }
    },
    {
      "cell_type": "code",
      "source": [
        "# Initialize lists to store accuracies\n",
        "dt_accuracies = []\n",
        "knn_accuracies = []\n",
        "\n",
        "for topping in toppings:\n",
        "    skf = StratifiedKFold(n_splits=6, shuffle=True, random_state=42)\n",
        "\n",
        "    for train_index, test_index in skf.split(X, y[topping]):\n",
        "        X_train, X_test = X.iloc[train_index], X.iloc[test_index]\n",
        "        y_train, y_test = y[topping].iloc[train_index], y[topping].iloc[test_index]\n",
        "\n",
        "        # Using simpler base models\n",
        "        dt_clf = DecisionTreeClassifier(max_depth=20, random_state=42)\n",
        "        knn_clf = KNeighborsClassifier(n_neighbors=2)\n",
        "\n",
        "        # Meta-model\n",
        "        meta_model = LogisticRegression(C=0.1, random_state=42)  # More regularization\n",
        "\n",
        "        # Stacking Classifier\n",
        "        stacking_clf = StackingClassifier(\n",
        "            estimators=[\n",
        "                ('dt', dt_clf),\n",
        "                ('knn', knn_clf)\n",
        "            ],\n",
        "            final_estimator=meta_model,\n",
        "            cv=5\n",
        "        )\n",
        "\n",
        "        # Fitting Base Models\n",
        "        dt_clf.fit(X_train, y_train)\n",
        "        knn_clf.fit(X_train, y_train)\n",
        "\n",
        "        # Predictions for Base Models\n",
        "        dt_pred = dt_clf.predict(X_test)\n",
        "        knn_pred = knn_clf.predict(X_test)\n",
        "\n",
        "        # Store individual accuracies for each base model\n",
        "        dt_accuracies.append(accuracy_score(y_test, dt_pred))\n",
        "        knn_accuracies.append(accuracy_score(y_test, knn_pred))\n",
        "\n",
        "        # Fitting Stacking Classifier\n",
        "        stacking_clf.fit(X_train, y_train)\n",
        "        y_pred = stacking_clf.predict(X_test)\n",
        "\n",
        "        # Store the model and accuracy\n",
        "        models[topping] = stacking_clf\n",
        "        ensemble_accuracies['Stacking'].append(accuracy_score(y_test, y_pred))\n",
        "\n",
        "# Calculate and print the average accuracies\n",
        "dt_avg_accuracy = np.mean(dt_accuracies)\n",
        "knn_avg_accuracy = np.mean(knn_accuracies)\n",
        "\n",
        "print(f\"\\nAverage Accuracy for DecisionTreeClassifier: {dt_avg_accuracy:.4f}\")\n",
        "print(f\"Average Accuracy for KNeighborsClassifier: {knn_avg_accuracy:.4f}\")\n",
        "\n",
        "def predict_user_input(user_df):\n",
        "    predictions = {}\n",
        "    for topping, model in models.items():\n",
        "        predictions[topping] = model.predict(user_df)[0]\n",
        "\n",
        "    sorted_predictions = sorted(predictions.items(), key=lambda x: x[1], reverse=True)\n",
        "    print(\"\\nFinal Prediction (Top 1 to 3):\")\n",
        "    res=[]\n",
        "    for i, (topping, prob) in enumerate(sorted_predictions[:3], start=1):\n",
        "        if prob > 0.5:\n",
        "            res.append(topping)\n",
        "            print(f\"  {i}. {topping}\")\n",
        "    return res\n",
        "\n",
        "output_Stacking = predict_user_input(user_df)\n"
      ],
      "metadata": {
        "colab": {
          "base_uri": "https://localhost:8080/"
        },
        "id": "tzTHbe1Ypfy6",
        "outputId": "5f7be46a-d026-469a-f56e-95f2ed7fd92a"
      },
      "execution_count": 62,
      "outputs": [
        {
          "output_type": "stream",
          "name": "stderr",
          "text": [
            "/usr/local/lib/python3.11/dist-packages/sklearn/model_selection/_split.py:805: UserWarning: The least populated class in y has only 3 members, which is less than n_splits=6.\n",
            "  warnings.warn(\n",
            "/usr/local/lib/python3.11/dist-packages/sklearn/model_selection/_split.py:805: UserWarning: The least populated class in y has only 2 members, which is less than n_splits=5.\n",
            "  warnings.warn(\n",
            "/usr/local/lib/python3.11/dist-packages/sklearn/model_selection/_split.py:805: UserWarning: The least populated class in y has only 2 members, which is less than n_splits=5.\n",
            "  warnings.warn(\n",
            "/usr/local/lib/python3.11/dist-packages/sklearn/model_selection/_split.py:805: UserWarning: The least populated class in y has only 3 members, which is less than n_splits=5.\n",
            "  warnings.warn(\n",
            "/usr/local/lib/python3.11/dist-packages/sklearn/model_selection/_split.py:805: UserWarning: The least populated class in y has only 3 members, which is less than n_splits=5.\n",
            "  warnings.warn(\n",
            "/usr/local/lib/python3.11/dist-packages/sklearn/model_selection/_split.py:805: UserWarning: The least populated class in y has only 3 members, which is less than n_splits=5.\n",
            "  warnings.warn(\n",
            "/usr/local/lib/python3.11/dist-packages/sklearn/model_selection/_split.py:805: UserWarning: The least populated class in y has only 3 members, which is less than n_splits=5.\n",
            "  warnings.warn(\n",
            "/usr/local/lib/python3.11/dist-packages/sklearn/model_selection/_split.py:805: UserWarning: The least populated class in y has only 3 members, which is less than n_splits=5.\n",
            "  warnings.warn(\n",
            "/usr/local/lib/python3.11/dist-packages/sklearn/model_selection/_split.py:805: UserWarning: The least populated class in y has only 3 members, which is less than n_splits=5.\n",
            "  warnings.warn(\n",
            "/usr/local/lib/python3.11/dist-packages/sklearn/model_selection/_split.py:805: UserWarning: The least populated class in y has only 2 members, which is less than n_splits=5.\n",
            "  warnings.warn(\n",
            "/usr/local/lib/python3.11/dist-packages/sklearn/model_selection/_split.py:805: UserWarning: The least populated class in y has only 2 members, which is less than n_splits=5.\n",
            "  warnings.warn(\n",
            "/usr/local/lib/python3.11/dist-packages/sklearn/model_selection/_split.py:805: UserWarning: The least populated class in y has only 2 members, which is less than n_splits=5.\n",
            "  warnings.warn(\n",
            "/usr/local/lib/python3.11/dist-packages/sklearn/model_selection/_split.py:805: UserWarning: The least populated class in y has only 2 members, which is less than n_splits=5.\n",
            "  warnings.warn(\n",
            "/usr/local/lib/python3.11/dist-packages/sklearn/model_selection/_split.py:805: UserWarning: The least populated class in y has only 3 members, which is less than n_splits=6.\n",
            "  warnings.warn(\n",
            "/usr/local/lib/python3.11/dist-packages/sklearn/model_selection/_split.py:805: UserWarning: The least populated class in y has only 2 members, which is less than n_splits=5.\n",
            "  warnings.warn(\n",
            "/usr/local/lib/python3.11/dist-packages/sklearn/model_selection/_split.py:805: UserWarning: The least populated class in y has only 2 members, which is less than n_splits=5.\n",
            "  warnings.warn(\n",
            "/usr/local/lib/python3.11/dist-packages/sklearn/model_selection/_split.py:805: UserWarning: The least populated class in y has only 3 members, which is less than n_splits=5.\n",
            "  warnings.warn(\n",
            "/usr/local/lib/python3.11/dist-packages/sklearn/model_selection/_split.py:805: UserWarning: The least populated class in y has only 3 members, which is less than n_splits=5.\n",
            "  warnings.warn(\n",
            "/usr/local/lib/python3.11/dist-packages/sklearn/model_selection/_split.py:805: UserWarning: The least populated class in y has only 3 members, which is less than n_splits=5.\n",
            "  warnings.warn(\n",
            "/usr/local/lib/python3.11/dist-packages/sklearn/model_selection/_split.py:805: UserWarning: The least populated class in y has only 3 members, which is less than n_splits=5.\n",
            "  warnings.warn(\n",
            "/usr/local/lib/python3.11/dist-packages/sklearn/model_selection/_split.py:805: UserWarning: The least populated class in y has only 3 members, which is less than n_splits=5.\n",
            "  warnings.warn(\n",
            "/usr/local/lib/python3.11/dist-packages/sklearn/model_selection/_split.py:805: UserWarning: The least populated class in y has only 3 members, which is less than n_splits=5.\n",
            "  warnings.warn(\n",
            "/usr/local/lib/python3.11/dist-packages/sklearn/model_selection/_split.py:805: UserWarning: The least populated class in y has only 2 members, which is less than n_splits=5.\n",
            "  warnings.warn(\n",
            "/usr/local/lib/python3.11/dist-packages/sklearn/model_selection/_split.py:805: UserWarning: The least populated class in y has only 2 members, which is less than n_splits=5.\n",
            "  warnings.warn(\n",
            "/usr/local/lib/python3.11/dist-packages/sklearn/model_selection/_split.py:805: UserWarning: The least populated class in y has only 2 members, which is less than n_splits=5.\n",
            "  warnings.warn(\n",
            "/usr/local/lib/python3.11/dist-packages/sklearn/model_selection/_split.py:805: UserWarning: The least populated class in y has only 2 members, which is less than n_splits=5.\n",
            "  warnings.warn(\n"
          ]
        },
        {
          "output_type": "stream",
          "name": "stdout",
          "text": [
            "\n",
            "Average Accuracy for DecisionTreeClassifier: 0.6056\n",
            "Average Accuracy for KNeighborsClassifier: 0.5417\n",
            "\n",
            "Final Prediction (Top 1 to 3):\n",
            "  1. Mushrooms\n",
            "  2. Onions\n",
            "  3. pineapple\n"
          ]
        }
      ]
    },
    {
      "cell_type": "markdown",
      "source": [
        "#Voting"
      ],
      "metadata": {
        "id": "9oMwc_6IrYK4"
      }
    },
    {
      "cell_type": "markdown",
      "source": [
        "Final Tuning Results for Voting Classifier:\n",
        "\n",
        "Mushrooms:\n",
        "  \n",
        "  RandomForestClassifier - Best Params: {'n_estimators': 50, 'min_samples_split': 2, 'max_depth': 7}\n",
        "  \n",
        "  GradientBoostingClassifier - Best Params: {'n_estimators': 150, 'max_depth': 7, 'learning_rate': 0.01}\n",
        "  Avg Accuracy: 0.7708 ± 0.2348\n",
        "\n",
        "Olives:\n",
        "  \n",
        "  RandomForestClassifier - Best Params: {'n_estimators': 150, 'min_samples_split': 10, 'max_depth': 5}\n",
        "  \n",
        "  GradientBoostingClassifier - Best Params: {'n_estimators': 150, 'max_depth': 7, 'learning_rate': 0.01}\n",
        "  Avg Accuracy: 0.3750 ± 0.1614\n",
        "\n",
        "Onions:\n",
        "  \n",
        "  RandomForestClassifier - Best Params: {'n_estimators': 150, 'min_samples_split': 10, 'max_depth': 5}\n",
        "  \n",
        "  GradientBoostingClassifier - Best Params: {'n_estimators': 150, 'max_depth': 7, 'learning_rate': 0.01}\n",
        "  Avg Accuracy: 0.7500 ± 0.2041\n",
        "\n",
        "Pepperoni:\n",
        "  \n",
        "  RandomForestClassifier - Best Params: {'n_estimators': 150, 'min_samples_split': 10, 'max_depth': 5}\n",
        "  \n",
        "  GradientBoostingClassifier - Best Params: {'n_estimators': 150, 'max_depth': 7, 'learning_rate': 0.01}\n",
        "  Avg Accuracy: 0.8750 ± 0.1614\n",
        "\n",
        "pineapple:\n",
        "  \n",
        "  RandomForestClassifier - Best Params: {'n_estimators': 150, 'min_samples_split': 10, 'max_depth': 5}\n",
        "  \n",
        "  GradientBoostingClassifier - Best Params: {'n_estimators': 50, 'max_depth': 3, 'learning_rate': 0.1}\n",
        "  Avg Accuracy: 0.4167 ± 0.1863\n",
        "\n",
        "\n",
        "  ## Parameter Grids for Tuning\n",
        "rf_param_grid = {\n",
        "    'n_estimators': [50, 100, 150],\n",
        "    'max_depth': [5, 7, 10],\n",
        "    'min_samples_split': [2, 5, 10]\n",
        "}\n",
        "\n",
        "gb_param_grid = {\n",
        "    'n_estimators': [50, 100, 150],\n",
        "    'learning_rate': [0.01, 0.1, 0.2],\n",
        "    'max_depth': [3, 5, 7]\n",
        "}"
      ],
      "metadata": {
        "id": "1k82rEpjsax3"
      }
    },
    {
      "cell_type": "code",
      "source": [
        "# Initialize lists to store accuracies\n",
        "rf_accuracies = []\n",
        "gb_accuracies = []\n",
        "\n",
        "for topping in toppings.columns:\n",
        "    skf = StratifiedKFold(n_splits=8, shuffle=True, random_state=42)\n",
        "\n",
        "    for train_index, test_index in skf.split(X, y[topping]):\n",
        "        X_train, X_test = X.iloc[train_index], X.iloc[test_index]\n",
        "        y_train, y_test = y[topping].iloc[train_index], y[topping].iloc[test_index]\n",
        "\n",
        "        # Initialize Base Models\n",
        "        rf_clf = RandomForestClassifier(random_state=42, n_estimators=150, max_depth=5)\n",
        "        gb_clf = GradientBoostingClassifier(random_state=42, n_estimators=150, learning_rate=0.01, max_depth=7)\n",
        "\n",
        "        # Voting Classifier with Hard Voting\n",
        "        voting_clf = VotingClassifier(\n",
        "            estimators=[\n",
        "                ('rf', rf_clf),\n",
        "                ('gb', gb_clf)\n",
        "            ],\n",
        "            voting='hard'\n",
        "        )\n",
        "\n",
        "        # Fitting Base Models Individually\n",
        "        rf_clf.fit(X_train, y_train)\n",
        "        gb_clf.fit(X_train, y_train)\n",
        "\n",
        "        # Predictions for Base Models\n",
        "        rf_pred = rf_clf.predict(X_test)\n",
        "        gb_pred = gb_clf.predict(X_test)\n",
        "\n",
        "        # Store individual accuracies for each base model\n",
        "        rf_accuracies.append(accuracy_score(y_test, rf_pred))\n",
        "        gb_accuracies.append(accuracy_score(y_test, gb_pred))\n",
        "\n",
        "        # Fitting Voting Classifier\n",
        "        voting_clf.fit(X_train, y_train)\n",
        "        y_pred = voting_clf.predict(X_test)\n",
        "\n",
        "        # Store the model and accuracy\n",
        "        models[topping] = voting_clf\n",
        "        ensemble_accuracies['Voting'].append(accuracy_score(y_test, y_pred))\n",
        "\n",
        "# Calculate and print the average accuracies\n",
        "rf_avg_accuracy = np.mean(rf_accuracies)\n",
        "gb_avg_accuracy = np.mean(gb_accuracies)\n",
        "\n",
        "print(f\"\\nAverage Accuracy for RandomForestClassifier: {rf_avg_accuracy:.4f}\")\n",
        "print(f\"Average Accuracy for GradientBoostingClassifier: {gb_avg_accuracy:.4f}\")\n",
        "\n",
        "def predict_user_input(user_df):\n",
        "    predictions = {}\n",
        "    for topping, model in models.items():\n",
        "        predictions[topping] = model.predict(user_df)[0]\n",
        "\n",
        "    sorted_predictions = sorted(predictions.items(), key=lambda x: x[1], reverse=True)\n",
        "    print(\"\\nFinal Prediction (Top 1 to 3):\")\n",
        "    res=[]\n",
        "    for i, (topping, prob) in enumerate(sorted_predictions[:3], start=1):\n",
        "        if prob > 0.5:\n",
        "            res.append(topping)\n",
        "            print(f\"  {i}. {topping}\")\n",
        "    return res\n",
        "\n",
        "output_Voting = predict_user_input(user_df)\n"
      ],
      "metadata": {
        "colab": {
          "base_uri": "https://localhost:8080/"
        },
        "id": "p5TLJp7IrcHi",
        "outputId": "ffffaefa-bd04-4196-986a-5f7ad2c089aa"
      },
      "execution_count": 63,
      "outputs": [
        {
          "output_type": "stream",
          "name": "stderr",
          "text": [
            "/usr/local/lib/python3.11/dist-packages/sklearn/model_selection/_split.py:805: UserWarning: The least populated class in y has only 6 members, which is less than n_splits=8.\n",
            "  warnings.warn(\n",
            "/usr/local/lib/python3.11/dist-packages/sklearn/model_selection/_split.py:805: UserWarning: The least populated class in y has only 3 members, which is less than n_splits=8.\n",
            "  warnings.warn(\n",
            "/usr/local/lib/python3.11/dist-packages/sklearn/model_selection/_split.py:805: UserWarning: The least populated class in y has only 3 members, which is less than n_splits=8.\n",
            "  warnings.warn(\n"
          ]
        },
        {
          "output_type": "stream",
          "name": "stdout",
          "text": [
            "\n",
            "Average Accuracy for RandomForestClassifier: 0.6833\n",
            "Average Accuracy for GradientBoostingClassifier: 0.6750\n",
            "\n",
            "Final Prediction (Top 1 to 3):\n",
            "  1. Mushrooms\n"
          ]
        }
      ]
    },
    {
      "cell_type": "markdown",
      "source": [
        "#Display Predictions - Output\n"
      ],
      "metadata": {
        "id": "86dnAfv0fAz0"
      }
    },
    {
      "cell_type": "code",
      "source": [
        "print(f\"\"\"\n",
        "output_BaggingClassifier : {output_BaggingClassifier}\n",
        "Boosting output: {output_Boosting}\n",
        "output_Stacking: {output_Stacking}\n",
        "output_Voting:{output_Voting}\"\"\")"
      ],
      "metadata": {
        "colab": {
          "base_uri": "https://localhost:8080/"
        },
        "id": "1nF-JWSP0YNF",
        "outputId": "f59ff31f-c38b-4926-a7a8-e2c5a9418ee6"
      },
      "execution_count": 64,
      "outputs": [
        {
          "output_type": "stream",
          "name": "stdout",
          "text": [
            " \n",
            "output_BaggingClassifier : ['Mushrooms']\n",
            "Boosting output: ['Mushrooms', 'Olives', 'Onions']\n",
            "output_Stacking: ['Mushrooms', 'Onions', 'pineapple']\n",
            "output_Voting:['Mushrooms']\n"
          ]
        }
      ]
    },
    {
      "cell_type": "markdown",
      "source": [
        "#Accuracy"
      ],
      "metadata": {
        "id": "uZ6pXV1CGnLE"
      }
    },
    {
      "cell_type": "code",
      "source": [
        "\n",
        "# Calculate and Display Mean Accuracies\n",
        "print(\"\\nEnsemble Method  |  Accuracy\")\n",
        "print(\"=============================\")\n",
        "for method, accuracies in ensemble_accuracies.items():\n",
        "    mean_accuracy = np.mean(accuracies) * 100\n",
        "    print(f\"{method:<15} |  {mean_accuracy:.1f}%\")\n"
      ],
      "metadata": {
        "colab": {
          "base_uri": "https://localhost:8080/"
        },
        "id": "uTK0z0Z6AoV_",
        "outputId": "05741d30-a32d-4e69-f8cc-7c27d8883770"
      },
      "execution_count": 65,
      "outputs": [
        {
          "output_type": "stream",
          "name": "stdout",
          "text": [
            "\n",
            "Ensemble Method  |  Accuracy\n",
            "=============================\n",
            "Bagging         |  64.2%\n",
            "Boosting        |  65.4%\n",
            "Stacking        |  68.6%\n",
            "Voting          |  63.7%\n"
          ]
        }
      ]
    },
    {
      "cell_type": "markdown",
      "source": [
        "###This is not the output its just a idea\n",
        "###if they choose other than the predicted what it maybe"
      ],
      "metadata": {
        "id": "3D45eEFTHqZ3"
      }
    },
    {
      "cell_type": "code",
      "source": [
        "from collections import Counter\n",
        "\n",
        "# Combine all outputs\n",
        "all_predictions = output_BaggingClassifier + output_Boosting + output_Stacking + output_Voting\n",
        "\n",
        "# Count the occurrences of each topping\n",
        "topping_counter = Counter(all_predictions)\n",
        "\n",
        "# Get the top 3 most common toppings in descending order\n",
        "top_3_toppings = topping_counter.most_common(3)  # Get the top 3 most common toppings\n",
        "\n",
        "print(\"\\nTop 3 Toppings Count from All Models (Descending Order):\")\n",
        "for topping, count in top_3_toppings:\n",
        "    print(f\"  {topping}: {count}\")\n",
        "\n",
        "# Get the most common topping\n",
        "most_common_topping = top_3_toppings[0][0]  # Get the topping with the highest count\n",
        "\n",
        "print(f\"\\nFinal Topping Prediction: {most_common_topping}\")"
      ],
      "metadata": {
        "colab": {
          "base_uri": "https://localhost:8080/"
        },
        "id": "gnk3OktBBDsJ",
        "outputId": "ffdba9b5-4059-4f85-e520-b5627cd1df8d"
      },
      "execution_count": 66,
      "outputs": [
        {
          "output_type": "stream",
          "name": "stdout",
          "text": [
            "\n",
            "Top 3 Toppings Count from All Models (Descending Order):\n",
            "  Mushrooms: 4\n",
            "  Onions: 2\n",
            "  Olives: 1\n",
            "\n",
            "Final Topping Prediction: Mushrooms\n"
          ]
        }
      ]
    }
  ]
}